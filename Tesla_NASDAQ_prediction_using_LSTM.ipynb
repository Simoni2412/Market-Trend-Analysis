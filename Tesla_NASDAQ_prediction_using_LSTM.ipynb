{
  "nbformat": 4,
  "nbformat_minor": 0,
  "metadata": {
    "kernelspec": {
      "display_name": "Python 3",
      "language": "python",
      "name": "python3"
    },
    "language_info": {
      "codemirror_mode": {
        "name": "ipython",
        "version": 3
      },
      "file_extension": ".py",
      "mimetype": "text/x-python",
      "name": "python",
      "nbconvert_exporter": "python",
      "pygments_lexer": "ipython3",
      "version": "3.8.5"
    },
    "colab": {
      "provenance": []
    }
  },
  "cells": [
    {
      "cell_type": "code",
      "metadata": {
        "id": "Dip1fasD1cpO"
      },
      "source": [
        "#import packages\n",
        "import pandas as pd\n",
        "import numpy as np\n",
        "\n",
        "#to plot within notebook\n",
        "import matplotlib.pyplot as plt"
      ],
      "execution_count": null,
      "outputs": []
    },
    {
      "cell_type": "code",
      "metadata": {
        "colab": {
          "base_uri": "https://localhost:8080/",
          "height": 204
        },
        "id": "Yk2imMBX1cpZ",
        "outputId": "f79a9ebc-11ea-463b-b05a-fc2c2acda597"
      },
      "source": [
        "%matplotlib inline\n",
        "\n",
        "#setting figure size\n",
        "from matplotlib.pylab import rcParams\n",
        "rcParams['figure.figsize'] = 20,10\n",
        "\n",
        "#for normalizing data\n",
        "from sklearn.preprocessing import MinMaxScaler\n",
        "scaler = MinMaxScaler(feature_range=(0, 1))\n",
        "\n",
        "#read the file\n",
        "df = pd.read_csv('TSLA.csv')\n",
        "\n",
        "#print the head\n",
        "df.head()"
      ],
      "execution_count": null,
      "outputs": [
        {
          "output_type": "execute_result",
          "data": {
            "text/html": [
              "<div>\n",
              "<style scoped>\n",
              "    .dataframe tbody tr th:only-of-type {\n",
              "        vertical-align: middle;\n",
              "    }\n",
              "\n",
              "    .dataframe tbody tr th {\n",
              "        vertical-align: top;\n",
              "    }\n",
              "\n",
              "    .dataframe thead th {\n",
              "        text-align: right;\n",
              "    }\n",
              "</style>\n",
              "<table border=\"1\" class=\"dataframe\">\n",
              "  <thead>\n",
              "    <tr style=\"text-align: right;\">\n",
              "      <th></th>\n",
              "      <th>Date</th>\n",
              "      <th>Open</th>\n",
              "      <th>High</th>\n",
              "      <th>Low</th>\n",
              "      <th>Close</th>\n",
              "      <th>Adj Close</th>\n",
              "      <th>Volume</th>\n",
              "    </tr>\n",
              "  </thead>\n",
              "  <tbody>\n",
              "    <tr>\n",
              "      <th>0</th>\n",
              "      <td>2010-06-29</td>\n",
              "      <td>3.800</td>\n",
              "      <td>5.000</td>\n",
              "      <td>3.508</td>\n",
              "      <td>4.778</td>\n",
              "      <td>4.778</td>\n",
              "      <td>93831500</td>\n",
              "    </tr>\n",
              "    <tr>\n",
              "      <th>1</th>\n",
              "      <td>2010-06-30</td>\n",
              "      <td>5.158</td>\n",
              "      <td>6.084</td>\n",
              "      <td>4.660</td>\n",
              "      <td>4.766</td>\n",
              "      <td>4.766</td>\n",
              "      <td>85935500</td>\n",
              "    </tr>\n",
              "    <tr>\n",
              "      <th>2</th>\n",
              "      <td>2010-07-01</td>\n",
              "      <td>5.000</td>\n",
              "      <td>5.184</td>\n",
              "      <td>4.054</td>\n",
              "      <td>4.392</td>\n",
              "      <td>4.392</td>\n",
              "      <td>41094000</td>\n",
              "    </tr>\n",
              "    <tr>\n",
              "      <th>3</th>\n",
              "      <td>2010-07-02</td>\n",
              "      <td>4.600</td>\n",
              "      <td>4.620</td>\n",
              "      <td>3.742</td>\n",
              "      <td>3.840</td>\n",
              "      <td>3.840</td>\n",
              "      <td>25699000</td>\n",
              "    </tr>\n",
              "    <tr>\n",
              "      <th>4</th>\n",
              "      <td>2010-07-06</td>\n",
              "      <td>4.000</td>\n",
              "      <td>4.000</td>\n",
              "      <td>3.166</td>\n",
              "      <td>3.222</td>\n",
              "      <td>3.222</td>\n",
              "      <td>34334500</td>\n",
              "    </tr>\n",
              "  </tbody>\n",
              "</table>\n",
              "</div>"
            ],
            "text/plain": [
              "         Date   Open   High    Low  Close  Adj Close    Volume\n",
              "0  2010-06-29  3.800  5.000  3.508  4.778      4.778  93831500\n",
              "1  2010-06-30  5.158  6.084  4.660  4.766      4.766  85935500\n",
              "2  2010-07-01  5.000  5.184  4.054  4.392      4.392  41094000\n",
              "3  2010-07-02  4.600  4.620  3.742  3.840      3.840  25699000\n",
              "4  2010-07-06  4.000  4.000  3.166  3.222      3.222  34334500"
            ]
          },
          "metadata": {
            "tags": []
          },
          "execution_count": 20
        }
      ]
    },
    {
      "cell_type": "code",
      "metadata": {
        "colab": {
          "base_uri": "https://localhost:8080/",
          "height": 550
        },
        "id": "yzHP66lQ1cpc",
        "outputId": "62153aa0-d796-4ee5-e463-0ac7dd378326"
      },
      "source": [
        "#setting index as date\n",
        "df['Date'] = pd.to_datetime(df.Date,format='%Y-%m-%d')\n",
        "df.index = df['Date']\n",
        "\n",
        "#plot\n",
        "plt.figure(figsize=(16,8))\n",
        "plt.plot(df['Close'], label='Close Price history', linewidth=6)\n",
        "plt.xlabel('Year')\n",
        "plt.ylabel('Price Values')\n",
        "plt.title('Close Price history')"
      ],
      "execution_count": null,
      "outputs": [
        {
          "output_type": "execute_result",
          "data": {
            "text/plain": [
              "Text(0.5, 1.0, 'Close Price history')"
            ]
          },
          "metadata": {
            "tags": []
          },
          "execution_count": 28
        },
        {
          "output_type": "display_data",
          "data": {
            "image/png": "[encoded data removed]",
            "text/plain": [
              "<Figure size 1152x576 with 1 Axes>"
            ]
          },
          "metadata": {
            "tags": [],
            "needs_background": "light"
          }
        }
      ]
    },
    {
      "cell_type": "code",
      "metadata": {
        "id": "4OCWmaBk1cpd"
      },
      "source": [
        "#importing required libraries\n",
        "from sklearn.preprocessing import MinMaxScaler\n",
        "from keras.models import Sequential\n",
        "from keras.layers import Dense, Dropout, LSTM"
      ],
      "execution_count": null,
      "outputs": []
    },
    {
      "cell_type": "code",
      "metadata": {
        "id": "SG-q_EPa1cpe"
      },
      "source": [
        "#creating dataframe\n",
        "data = df.sort_index(ascending=True, axis=0)\n",
        "new_data = pd.DataFrame(index=range(0,len(df)),columns=['Date', 'Close'])\n",
        "for i in range(0,len(data)):\n",
        "    new_data['Date'][i] = data['Date'][i]\n",
        "    new_data['Close'][i] = data['Close'][i]"
      ],
      "execution_count": null,
      "outputs": []
    },
    {
      "cell_type": "code",
      "metadata": {
        "id": "qPxOcoVy1cpe"
      },
      "source": [
        "#setting index\n",
        "new_data.index = new_data.Date\n",
        "new_data.drop('Date', axis=1, inplace=True)\n",
        "\n",
        "#creating train and test sets\n",
        "dataset = new_data.values\n",
        "\n",
        "train = dataset[0:987,:]\n",
        "valid = dataset[987:,:]"
      ],
      "execution_count": null,
      "outputs": []
    },
    {
      "cell_type": "code",
      "metadata": {
        "colab": {
          "base_uri": "https://localhost:8080/"
        },
        "id": "h2GaGsQb1cpf",
        "outputId": "5147e2aa-91f5-4b43-c0af-0d9cdcf276d1"
      },
      "source": [
        "#converting dataset into x_train and y_train\n",
        "scaler = MinMaxScaler(feature_range=(0, 1))\n",
        "scaled_data = scaler.fit_transform(dataset)\n",
        "print(scaled_data[i-60:i,0], scaled_data[i,0])\n",
        "x_train, y_train = [], []\n",
        "for i in range(60,len(train)):\n",
        "    x_train.append(scaled_data[i-60:i,0])\n",
        "    y_train.append(scaled_data[i,0])\n",
        "x_train, y_train = np.array(x_train), np.array(y_train)\n",
        "\n",
        "x_train = np.reshape(x_train, (x_train.shape[0],x_train.shape[1],1))\n"
      ],
      "execution_count": null,
      "outputs": [
        {
          "output_type": "stream",
          "text": [
            "[0.0538361  0.05389974 0.05237007 0.05069494 0.04968804 0.05129726\n",
            " 0.05045628 0.04890616 0.04959031 0.05096769 0.05001307 0.04980168\n",
            " 0.0484334  0.04645142 0.04651279 0.04481265 0.04353074 0.04467855\n",
            " 0.04378757 0.04572409 0.0487516  0.04764015 0.04464673 0.04357619\n",
            " 0.04538088 0.045715   0.04281931 0.04272613 0.04143284 0.04048277\n",
            " 0.04166468 0.04143966 0.0428625  0.04610367 0.04368302 0.04365347\n",
            " 0.04183287 0.0415283  0.04343982 0.04366029 0.04362392 0.04434671\n",
            " 0.04564226 0.04352164 0.04217381 0.03700067 0.03783483 0.0383826\n",
            " 0.03963043 0.03973498 0.03927358 0.03994863 0.04097826 0.0407987\n",
            " 0.04174195 0.04297615 0.04352619 0.04449445 0.04419442 0.04419442] 0.04363301606026453\n"
          ],
          "name": "stdout"
        }
      ]
    },
    {
      "cell_type": "code",
      "metadata": {
        "id": "qVTEI1ey1cpg"
      },
      "source": [
        "# create and fit the LSTM network\n",
        "model = Sequential()\n",
        "model.add(LSTM(units=50, return_sequences=True, input_shape=(x_train.shape[1],1)))\n",
        "model.add(LSTM(units=50))\n",
        "model.add(Dense(1))"
      ],
      "execution_count": null,
      "outputs": []
    },
    {
      "cell_type": "code",
      "metadata": {
        "colab": {
          "base_uri": "https://localhost:8080/"
        },
        "id": "eVxXb6OX1cpg",
        "outputId": "365f93c0-11e5-4485-fd6b-827142380115"
      },
      "source": [
        "model.compile(loss='mean_squared_error', optimizer='adam')\n",
        "model.fit(x_train, y_train, epochs=1, batch_size=1, verbose=2)"
      ],
      "execution_count": null,
      "outputs": [
        {
          "output_type": "stream",
          "text": [
            "927/927 - 24s - loss: 8.6670e-06\n"
          ],
          "name": "stdout"
        },
        {
          "output_type": "execute_result",
          "data": {
            "text/plain": [
              "<tensorflow.python.keras.callbacks.History at 0x7f49fd11c2d0>"
            ]
          },
          "metadata": {
            "tags": []
          },
          "execution_count": 24
        }
      ]
    },
    {
      "cell_type": "code",
      "metadata": {
        "id": "3olADsCA1cph"
      },
      "source": [
        "#predicting 246 values, using past 60 from the train data\n",
        "inputs = new_data[len(new_data) - len(valid) - 60:].values\n",
        "inputs = inputs.reshape(-1,1)\n",
        "inputs  = scaler.transform(inputs)\n",
        "X_test = []\n",
        "for i in range(60,inputs.shape[0]):\n",
        "    X_test.append(inputs[i-60:i,0])\n",
        "X_test = np.array(X_test)\n",
        "\n",
        "X_test = np.reshape(X_test, (X_test.shape[0],X_test.shape[1],1))\n",
        "closing_price = model.predict(X_test)\n",
        "closing_price = scaler.inverse_transform(closing_price)"
      ],
      "execution_count": null,
      "outputs": []
    },
    {
      "cell_type": "code",
      "metadata": {
        "colab": {
          "base_uri": "https://localhost:8080/"
        },
        "id": "rdfrInu61cph",
        "outputId": "d022237a-1a33-4bef-8644-3f6f30f6d7f6"
      },
      "source": [
        "rms=np.sqrt(np.mean(np.power((valid-closing_price),2)))\n",
        "rms"
      ],
      "execution_count": null,
      "outputs": [
        {
          "output_type": "execute_result",
          "data": {
            "text/plain": [
              "22.496018826959453"
            ]
          },
          "metadata": {
            "tags": []
          },
          "execution_count": 14
        }
      ]
    },
    {
      "cell_type": "code",
      "metadata": {
        "colab": {
          "base_uri": "https://localhost:8080/",
          "height": 760
        },
        "id": "aQASbeHq1cpi",
        "outputId": "51fb1dcf-dd66-435e-d6ab-b3219dd346b2"
      },
      "source": [
        "#for plotting\n",
        "train = new_data[:987]\n",
        "valid = new_data[987:]\n",
        "valid['Predictions'] = closing_price\n",
        "plt.plot(train['Close'], linewidth=6)\n",
        "plt.plot(valid['Close'], color='g', linewidth=6)\n",
        "plt.plot(valid['Predictions'], color='r', linewidth=6)\n",
        "plt.xlabel('Year')\n",
        "plt.ylabel('Price Values')\n",
        "plt.title('Prediction Values for Closing Stock Price vs Date.')\n",
        "plt.plot()"
      ],
      "execution_count": null,
      "outputs": [
        {
          "output_type": "stream",
          "text": [
            "/usr/local/lib/python3.7/dist-packages/ipykernel_launcher.py:4: SettingWithCopyWarning: \n",
            "A value is trying to be set on a copy of a slice from a DataFrame.\n",
            "Try using .loc[row_indexer,col_indexer] = value instead\n",
            "\n",
            "See the caveats in the documentation: https://pandas.pydata.org/pandas-docs/stable/user_guide/indexing.html#returning-a-view-versus-a-copy\n",
            "  after removing the cwd from sys.path.\n"
          ],
          "name": "stderr"
        },
        {
          "output_type": "execute_result",
          "data": {
            "text/plain": [
              "[]"
            ]
          },
          "metadata": {
            "tags": []
          },
          "execution_count": 29
        },
        {
          "output_type": "display_data",
          "data": {
            "image/png": "[encoded data removed]",
            "text/plain": [
              "<Figure size 1440x720 with 1 Axes>"
            ]
          },
          "metadata": {
            "tags": [],
            "needs_background": "light"
          }
        }
      ]
    },
    {
      "cell_type": "code",
      "metadata": {
        "id": "9gupy9_x1cpk"
      },
      "source": [],
      "execution_count": null,
      "outputs": []
    }
  ]
}