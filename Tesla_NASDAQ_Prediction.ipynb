{
  "nbformat": 4,
  "nbformat_minor": 0,
  "metadata": {
    "colab": {
      "provenance": [],
      "toc_visible": true
    },
    "kernelspec": {
      "name": "python3",
      "display_name": "Python 3"
    },
    "language_info": {
      "name": "python"
    }
  },
  "cells": [
    {
      "cell_type": "code",
      "execution_count": null,
      "metadata": {
        "id": "TlziILhVqUyn"
      },
      "outputs": [],
      "source": [
        "from tensorflow.keras.models import Sequential\n",
        "from tensorflow.keras.layers import Activation, Dense, Dropout\n",
        "import matplotlib.pyplot as plt\n",
        "import numpy as np\n",
        "import pandas as pd\n",
        "from sklearn.metrics import mean_absolute_error"
      ]
    },
    {
      "cell_type": "code",
      "source": [
        "data = pd.read_csv(\"/content/Tesla_Nasdaq_Prediction.csv\")\n",
        "data = data.iloc[:,0:6]\n",
        "y = data.loc[:,['Close/Last','Date']]\n",
        "y = data.iloc[:,0:2]\n",
        "data = data.drop(['Close/Last'],axis='columns')\n",
        "print(data.head(5))\n",
        "print(y.head(5))"
      ],
      "metadata": {
        "colab": {
          "base_uri": "https://localhost:8080/"
        },
        "id": "eslFt_LL7Cfp",
        "outputId": "5a1e7cef-8265-44f9-8484-aaeebb00080a"
      },
      "execution_count": null,
      "outputs": [
        {
          "output_type": "stream",
          "name": "stdout",
          "text": [
            "       Date    Volume     Open     High      Low\n",
            "0  4/8/2022  18337900  1043.21  1048.44  1022.44\n",
            "1  4/7/2022  26482350  1052.39  1076.59  1021.54\n",
            "2  4/6/2022  29782850  1073.47  1079.00  1027.70\n",
            "3  4/5/2022  26691670  1136.30  1152.87  1087.30\n",
            "4  4/4/2022  27392570  1089.38  1149.91  1072.53\n",
            "       Date  Close/Last\n",
            "0  4/8/2022     1025.49\n",
            "1  4/7/2022     1057.26\n",
            "2  4/6/2022     1045.76\n",
            "3  4/5/2022     1091.26\n",
            "4  4/4/2022     1145.45\n"
          ]
        }
      ]
    },
    {
      "cell_type": "code",
      "source": [
        "y = y.set_index('Date')\n",
        "y.index = pd.to_datetime(y.index,unit='ns')\n",
        "print(y.index)"
      ],
      "metadata": {
        "colab": {
          "base_uri": "https://localhost:8080/"
        },
        "id": "-aw2fO3n7VQF",
        "outputId": "0eb19e1f-19b9-4c52-b943-4cf09aafcae5"
      },
      "execution_count": null,
      "outputs": [
        {
          "output_type": "stream",
          "name": "stdout",
          "text": [
            "DatetimeIndex(['2022-04-08', '2022-04-07', '2022-04-06', '2022-04-05',\n",
            "               '2022-04-04', '2022-04-01', '2022-03-31', '2022-03-30',\n",
            "               '2022-03-29', '2022-03-28',\n",
            "               ...\n",
            "               '2012-04-24', '2012-04-23', '2012-04-20', '2012-04-19',\n",
            "               '2012-04-18', '2012-04-17', '2012-04-16', '2012-04-13',\n",
            "               '2012-04-12', '2012-04-11'],\n",
            "              dtype='datetime64[ns]', name='Date', length=2517, freq=None)\n"
          ]
        }
      ]
    },
    {
      "cell_type": "code",
      "source": [
        "data = data.set_index('Date')\n",
        "data.index = pd.to_datetime(data.index,unit='ns')\n",
        "print(data.index)"
      ],
      "metadata": {
        "colab": {
          "base_uri": "https://localhost:8080/"
        },
        "id": "03PKC24s9OnN",
        "outputId": "4064d9a0-23c2-404e-ddf0-f17bfee2b64a"
      },
      "execution_count": null,
      "outputs": [
        {
          "output_type": "stream",
          "name": "stdout",
          "text": [
            "DatetimeIndex(['2022-04-08', '2022-04-07', '2022-04-06', '2022-04-05',\n",
            "               '2022-04-04', '2022-04-01', '2022-03-31', '2022-03-30',\n",
            "               '2022-03-29', '2022-03-28',\n",
            "               ...\n",
            "               '2012-04-24', '2012-04-23', '2012-04-20', '2012-04-19',\n",
            "               '2012-04-18', '2012-04-17', '2012-04-16', '2012-04-13',\n",
            "               '2012-04-12', '2012-04-11'],\n",
            "              dtype='datetime64[ns]', name='Date', length=2517, freq=None)\n"
          ]
        }
      ]
    },
    {
      "cell_type": "code",
      "source": [
        "import sklearn\n",
        "from sklearn.model_selection import train_test_split\n",
        "\n",
        "X_train = data[400:]\n",
        "X_test = data[:400]\n",
        "\n",
        "y_train = y[400:]\n",
        "y_test = y[:400]"
      ],
      "metadata": {
        "id": "EHhqepym9Rhz"
      },
      "execution_count": null,
      "outputs": []
    },
    {
      "cell_type": "code",
      "source": [
        "aim = ['Close/Last']"
      ],
      "metadata": {
        "id": "pubA3kFU9Xeq"
      },
      "execution_count": null,
      "outputs": []
    },
    {
      "cell_type": "code",
      "source": [
        "def line_plot(line1, line2, label1=None, label2=None, title='', lw=2):\n",
        "    fig, ax = plt.subplots(1, figsize=(13, 7))\n",
        "    ax.plot(line1, label=label1, linewidth=lw)\n",
        "    ax.plot(line2, label=label2, linewidth=lw)\n",
        "    ax.set_ylabel('TESLA/USD', fontsize=14)\n",
        "    ax.set_title(title, fontsize=16)\n",
        "    ax.legend(loc='best', fontsize=16);"
      ],
      "metadata": {
        "id": "is5TDcAE9Z0J"
      },
      "execution_count": null,
      "outputs": []
    },
    {
      "cell_type": "code",
      "source": [
        "line_plot(y_train[aim], y_test[aim], 'training', 'test', title='')"
      ],
      "metadata": {
        "colab": {
          "base_uri": "https://localhost:8080/",
          "height": 403
        },
        "id": "oh4jZ3L59ekk",
        "outputId": "a1bf0153-32e2-4e37-f5ac-98f70f7e8cd6"
      },
      "execution_count": null,
      "outputs": [
        {
          "output_type": "display_data",
          "data": {
            "text/plain": [
              "<Figure size 936x504 with 1 Axes>"
            ],
            "image/png": "[encoded data removed]"
          },
          "metadata": {
            "needs_background": "light"
          }
        }
      ]
    },
    {
      "cell_type": "code",
      "source": [
        "from sklearn.preprocessing import MinMaxScaler\n",
        "scaler = MinMaxScaler()"
      ],
      "metadata": {
        "id": "VmOnv16z9hc_"
      },
      "execution_count": null,
      "outputs": []
    }
  ]
}